{
 "cells": [
  {
   "cell_type": "code",
   "execution_count": 10,
   "metadata": {},
   "outputs": [
    {
     "name": "stdout",
     "output_type": "stream",
     "text": [
      "Using properties file: null\n",
      "Using Spark's default log4j profile: org/apache/spark/log4j-defaults.properties\n",
      "19/01/28 16:11:58 WARN Utils: Your hostname, yilinma-ubuntu resolves to a loopback address: 127.0.1.1; using 10.239.44.56 instead (on interface enp2s0f0)\n",
      "19/01/28 16:11:58 WARN Utils: Set SPARK_LOCAL_IP if you need to bind to another address\n",
      "Parsed arguments:\n",
      "  master                  local[4]\n",
      "  deployMode              null\n",
      "  executorMemory          null\n",
      "  executorCores           null\n",
      "  totalExecutorCores      null\n",
      "  propertiesFile          null\n",
      "  driverMemory            8g\n",
      "  driverCores             null\n",
      "  driverExtraClassPath    null\n",
      "  driverExtraLibraryPath  null\n",
      "  driverExtraJavaOptions  null\n",
      "  supervise               false\n",
      "  queue                   null\n",
      "  numExecutors            null\n",
      "  files                   null\n",
      "  pyFiles                 null\n",
      "  archives                null\n",
      "  mainClass               com.intel.analytics.bigdl.models.resnet.TrainKfbio\n",
      "  primaryResource         file:/home/yilinma/Documents/IntelliJ_IDEA_Projects/Test/target/AI-Master-0.1.0-SNAPSHOT-jar-with-dependencies.jar\n",
      "  name                    com.intel.analytics.bigdl.models.resnet.TrainKfbio\n",
      "  childArgs               [--batchSize 2 --nEpochs 10 --learningRate 0.1 --warmupEpoch 5 --maxLr 3.2 --depth 50 --classes 2 --coreSitePath /home/yilinma/Documents/IntelliJ_IDEA_Projects/Test/core-site.xml --hbaseSitePath /home/yilinma/Documents/IntelliJ_IDEA_Projects/Test/hbase-site.xml --hbaseTableName kfb_512 --rowKeyStart 000000001 --rowKeyEnd 000000031 --modelSavingPath /home/yilinma/Documents/tmp/AutoLabelingModels/jupyter_model.obj]\n",
      "  jars                    null\n",
      "  packages                null\n",
      "  packagesExclusions      null\n",
      "  repositories            null\n",
      "  verbose                 true\n",
      "\n",
      "Spark properties used, including those specified through\n",
      " --conf and those from the properties file null:\n",
      "  (spark.driver.memory,8g)\n",
      "\n",
      "    \n",
      "Main class:\n",
      "com.intel.analytics.bigdl.models.resnet.TrainKfbio\n",
      "Arguments:\n",
      "--batchSize\n",
      "2\n",
      "--nEpochs\n",
      "10\n",
      "--learningRate\n",
      "0.1\n",
      "--warmupEpoch\n",
      "5\n",
      "--maxLr\n",
      "3.2\n",
      "--depth\n",
      "50\n",
      "--classes\n",
      "2\n",
      "--coreSitePath\n",
      "/home/yilinma/Documents/IntelliJ_IDEA_Projects/Test/core-site.xml\n",
      "--hbaseSitePath\n",
      "/home/yilinma/Documents/IntelliJ_IDEA_Projects/Test/hbase-site.xml\n",
      "--hbaseTableName\n",
      "kfb_512\n",
      "--rowKeyStart\n",
      "000000001\n",
      "--rowKeyEnd\n",
      "000000031\n",
      "--modelSavingPath\n",
      "/home/yilinma/Documents/tmp/AutoLabelingModels/jupyter_model.obj\n",
      "System properties:\n",
      "(spark.driver.memory,8g)\n",
      "(SPARK_SUBMIT,true)\n",
      "(spark.app.name,com.intel.analytics.bigdl.models.resnet.TrainKfbio)\n",
      "(spark.jars,file:/home/yilinma/Documents/IntelliJ_IDEA_Projects/Test/target/AI-Master-0.1.0-SNAPSHOT-jar-with-dependencies.jar)\n",
      "(spark.submit.deployMode,client)\n",
      "(spark.master,local[4])\n",
      "Classpath elements:\n",
      "file:/home/yilinma/Documents/IntelliJ_IDEA_Projects/Test/target/AI-Master-0.1.0-SNAPSHOT-jar-with-dependencies.jar\n",
      "\n",
      "\n",
      "Exception in thread \"main\" java.lang.NoSuchMethodError: com.intel.analytics.bigdl.models.resnet.Utils$TrainParams$.apply$default$19()Ljava/lang/String;\n",
      "\tat com.intel.analytics.bigdl.models.resnet.TrainKfbio$.main(TrainKfbio.scala:41)\n",
      "\tat com.intel.analytics.bigdl.models.resnet.TrainKfbio.main(TrainKfbio.scala)\n",
      "\tat sun.reflect.NativeMethodAccessorImpl.invoke0(Native Method)\n",
      "\tat sun.reflect.NativeMethodAccessorImpl.invoke(NativeMethodAccessorImpl.java:62)\n",
      "\tat sun.reflect.DelegatingMethodAccessorImpl.invoke(DelegatingMethodAccessorImpl.java:43)\n",
      "\tat java.lang.reflect.Method.invoke(Method.java:498)\n",
      "\tat org.apache.spark.deploy.SparkSubmit$.org$apache$spark$deploy$SparkSubmit$$runMain(SparkSubmit.scala:775)\n",
      "\tat org.apache.spark.deploy.SparkSubmit$.doRunMain$1(SparkSubmit.scala:180)\n",
      "\tat org.apache.spark.deploy.SparkSubmit$.submit(SparkSubmit.scala:205)\n",
      "\tat org.apache.spark.deploy.SparkSubmit$.main(SparkSubmit.scala:119)\n",
      "\tat org.apache.spark.deploy.SparkSubmit.main(SparkSubmit.scala)\n"
     ]
    }
   ],
   "source": [
    "!spark-submit \\\n",
    "--verbose \\\n",
    "--master local[4] \\\n",
    "--driver-memory 8g \\\n",
    "--class com.intel.analytics.bigdl.models.resnet.TrainKfbio \\\n",
    "/home/yilinma/Documents/IntelliJ_IDEA_Projects/Test/target/AI-Master-0.1.0-SNAPSHOT-jar-with-dependencies.jar \\\n",
    "--batchSize 2 --nEpochs 10 --learningRate 0.1 --warmupEpoch 5 \\\n",
    "--maxLr 3.2 --depth 50 --classes 2 \\\n",
    "--coreSitePath /home/yilinma/Documents/IntelliJ_IDEA_Projects/Test/core-site.xml \\\n",
    "--hbaseSitePath /home/yilinma/Documents/IntelliJ_IDEA_Projects/Test/hbase-site.xml \\\n",
    "--hbaseTableName kfb_512 --rowKeyStart 000000001 --rowKeyEnd 000000031 \\\n",
    "--modelSavingPath /home/yilinma/Documents/tmp/AutoLabelingModels/jupyter_model.obj\n"
   ]
  },
  {
   "cell_type": "code",
   "execution_count": 8,
   "metadata": {},
   "outputs": [
    {
     "name": "stdout",
     "output_type": "stream",
     "text": [
      "AI-Master.iml\ths_err_pid13310.log  predict_script.sh\ttrain_script.sh\r\n",
      "bigdl.log\ths_err_pid14188.log  resnet-imagenet\r\n",
      "core-site.xml\ths_err_pid23351.log  src\r\n",
      "hbase-site.xml\tpom.xml\t\t     target\r\n"
     ]
    }
   ],
   "source": [
    "!ls /home/yilinma/Documents/IntelliJ_IDEA_Projects/Test/"
   ]
  }
 ],
 "metadata": {
  "kernelspec": {
   "display_name": "Python 3",
   "language": "python",
   "name": "python3"
  },
  "language_info": {
   "codemirror_mode": {
    "name": "ipython",
    "version": 3
   },
   "file_extension": ".py",
   "mimetype": "text/x-python",
   "name": "python",
   "nbconvert_exporter": "python",
   "pygments_lexer": "ipython3",
   "version": "3.6.7"
  }
 },
 "nbformat": 4,
 "nbformat_minor": 2
}
